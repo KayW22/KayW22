{
 "cells": [
  {
   "cell_type": "code",
   "execution_count": 5,
   "id": "842d443f",
   "metadata": {},
   "outputs": [
    {
     "name": "stdout",
     "output_type": "stream",
     "text": [
      "True\n",
      "True\n"
     ]
    }
   ],
   "source": [
    "def get_y(m, b, x):\n",
    "    y = m*x + b\n",
    "    return y\n",
    "\n",
    "print(get_y(1, 0, 7) == 7)\n",
    "print(get_y(5, 10, 3) == 25)\n"
   ]
  },
  {
   "cell_type": "code",
   "execution_count": 10,
   "id": "7fdf0f81",
   "metadata": {},
   "outputs": [
    {
     "name": "stdout",
     "output_type": "stream",
     "text": [
      "0\n",
      "1\n",
      "1\n",
      "5\n"
     ]
    },
    {
     "ename": "NameError",
     "evalue": "name 'm' is not defined",
     "output_type": "error",
     "traceback": [
      "\u001b[1;31m---------------------------------------------------------------------------\u001b[0m",
      "\u001b[1;31mNameError\u001b[0m                                 Traceback (most recent call last)",
      "Cell \u001b[1;32mIn[10], line 17\u001b[0m\n\u001b[0;32m     15\u001b[0m       total_error \u001b[38;5;241m=\u001b[39m \u001b[38;5;241m0\u001b[39m\n\u001b[0;32m     16\u001b[0m \u001b[38;5;28;01mfor\u001b[39;00m point \u001b[38;5;129;01min\u001b[39;00m datapoints:\n\u001b[1;32m---> 17\u001b[0m     point_error \u001b[38;5;241m=\u001b[39m calculate_error(m, b, point)\n\u001b[0;32m     18\u001b[0m     total_error \u001b[38;5;241m+\u001b[39m\u001b[38;5;241m=\u001b[39m point_error\n\u001b[0;32m     19\u001b[0m \u001b[38;5;28;01mreturn\u001b[39;00m total_error\n",
      "\u001b[1;31mNameError\u001b[0m: name 'm' is not defined"
     ]
    }
   ],
   "source": [
    "def calculate_error(m, b, point):\n",
    "    x_point, y_point = point\n",
    "    y = m*x_point + b\n",
    "    distance = abs(y - y_point)\n",
    "    return distance\n",
    "\n",
    "print(calculate_error(1, 0, (3, 3)))\n",
    "print(calculate_error(1, 0, (3, 4)))\n",
    "print(calculate_error(1, -1, (3, 3)))\n",
    "print(calculate_error(-1, 1, (3, 3)))\n",
    "\n",
    "datapoints = [(1, 2), (2, 0), (3, 4), (4, 4), (5,3)]\n",
    "\n",
    "def calculate_all_error(m, b, points):\n",
    "      total_error = 0\n",
    "for point in datapoints:\n",
    "    point_error = calculate_error(m, b, point)\n",
    "    total_error += point_error\n",
    "return total_error\n",
    "    \n",
    "print(calculate_all_error(1, 0, point))\n",
    "print(calculate_all_error(1, 1, point))\n",
    "print(calculate_all_error(1, -1, point))\n",
    "print(calculate_all_error(-1, 1, point))\n",
    "\n",
    "datapoints = [(1, 1), (3, 3), (5, 5), (-1, -1)]\n",
    "\n",
    "print(calculate_all_error(1, 0, datapoints))\n",
    "print(calculate_all_error(1, 1, datapoints))\n",
    "print(calculate_all_error(1, -1, datapoints))\n",
    "print(calculate_all_error(-1, 1, datapoints))\n",
    "\n",
    "possible_ms = [m/10 for m in range(-100, 101)]\n",
    "\n",
    "possible_bs = [b/10 for b in range(-200, 201)]\n",
    "\n",
    "datapoints = [(1, 2), (2, 0), (3, 4), (4, 4), (5, 3)]\n",
    "smallest_error = float(\"inf\")\n",
    "best_m = 0\n",
    "best_b = 0\n",
    "\n",
    "for m in possible_ms:\n",
    "    for b in possible_bs:\n",
    "        error = calculate_all_error( m, b, datapoints)\n",
    "if error < smallest_error:\n",
    "    best_m = m\n",
    "    best_b = b\n",
    "    smallest_error = error\n",
    "print(best_m, best_b, smallest_error)\n",
    "\n",
    "get_y(0.4, 1.6, 6)"
   ]
  },
  {
   "cell_type": "code",
   "execution_count": null,
   "id": "9a2758b1",
   "metadata": {},
   "outputs": [],
   "source": []
  },
  {
   "cell_type": "code",
   "execution_count": null,
   "id": "3ad89a66",
   "metadata": {},
   "outputs": [],
   "source": []
  }
 ],
 "metadata": {
  "kernelspec": {
   "display_name": "Python 3 (ipykernel)",
   "language": "python",
   "name": "python3"
  },
  "language_info": {
   "codemirror_mode": {
    "name": "ipython",
    "version": 3
   },
   "file_extension": ".py",
   "mimetype": "text/x-python",
   "name": "python",
   "nbconvert_exporter": "python",
   "pygments_lexer": "ipython3",
   "version": "3.11.4"
  }
 },
 "nbformat": 4,
 "nbformat_minor": 5
}
