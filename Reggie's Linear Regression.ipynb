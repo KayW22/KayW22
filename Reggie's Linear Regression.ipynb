{
 "cells": [
  {
   "cell_type": "code",
   "execution_count": 5,
   "id": "842d443f",
   "metadata": {},
   "outputs": [
    {
     "name": "stdout",
     "output_type": "stream",
     "text": [
      "True\n",
      "True\n"
     ]
    }
   ],
   "source": [
    "def get_y(m, b, x):\n",
    "    y = m*x + b\n",
    "    return y\n",
    "\n",
    "print(get_y(1, 0, 7) == 7)\n",
    "print(get_y(5, 10, 3) == 25)\n"
   ]
  },
  {
   "cell_type": "code",
   "execution_count": 25,
   "id": "7fdf0f81",
   "metadata": {},
   "outputs": [
    {
     "ename": "IndentationError",
     "evalue": "expected an indented block after 'for' statement on line 35 (153232668.py, line 36)",
     "output_type": "error",
     "traceback": [
      "\u001b[1;36m  Cell \u001b[1;32mIn[25], line 36\u001b[1;36m\u001b[0m\n\u001b[1;33m    error = calculate_all_error(m, b, datapoints)\u001b[0m\n\u001b[1;37m                                                 ^\u001b[0m\n\u001b[1;31mIndentationError\u001b[0m\u001b[1;31m:\u001b[0m expected an indented block after 'for' statement on line 35\n"
     ]
    }
   ],
   "source": [
    "def calculate_error(m, b, point):\n",
    "    x_point, y_point = point\n",
    "    y = m*x_point + b\n",
    "    distance = abs(y - y_point)\n",
    "    return distance\n",
    "\n",
    "print(calculate_error(1, 0, (3, 3)))\n",
    "print(calculate_error(1, 0, (3, 4)))\n",
    "print(calculate_error(1, -1, (3, 3)))\n",
    "print(calculate_error(-1, 1, (3, 3)))\n",
    "\n",
    "def calculate_all_error(m, b, points):\n",
    "      total_error = 0\n",
    "for point in points:\n",
    "    point_error = calculate_error(m, b, point)\n",
    "total_error += point_error\n",
    "return total_error\n",
    "    \n",
    "print(calculate_all_error(1, 0, point))\n",
    "print(calculate_all_error(1, 1, point))\n",
    "print(calculate_all_error(1, -1, point))\n",
    "print(calculate_all_error(-1, 1, point))\n",
    "\n",
    "possible_ms = [m/10 for m in range(-10, 11)]\n",
    "\n",
    "possible_bs = [b/10 for b in range(-20, 21)]\n",
    "\n",
    "# Task 10\n",
    "datapoints = [(1, 2), (2, 0), (3, 4), (4, 4), (5, 3)]\n",
    "smallest_error = floeat(\"inf\")\n",
    "best_m = 0\n",
    "best_b = 0\n",
    "\n",
    "for m in possible_ms:\n",
    "    for b in possible_bs:\n",
    "error = calculate_all_error(m, b, datapoints)\n",
    "if error < smallest_error:\n",
    "    best_m = m\n",
    "    best_b = b\n",
    "    smallest_error = error\n",
    "print(best_m, best_b, smallest_error)"
   ]
  },
  {
   "cell_type": "code",
   "execution_count": null,
   "id": "9a2758b1",
   "metadata": {},
   "outputs": [],
   "source": []
  },
  {
   "cell_type": "code",
   "execution_count": null,
   "id": "3ad89a66",
   "metadata": {},
   "outputs": [],
   "source": []
  }
 ],
 "metadata": {
  "kernelspec": {
   "display_name": "Python 3 (ipykernel)",
   "language": "python",
   "name": "python3"
  },
  "language_info": {
   "codemirror_mode": {
    "name": "ipython",
    "version": 3
   },
   "file_extension": ".py",
   "mimetype": "text/x-python",
   "name": "python",
   "nbconvert_exporter": "python",
   "pygments_lexer": "ipython3",
   "version": "3.11.4"
  }
 },
 "nbformat": 4,
 "nbformat_minor": 5
}
